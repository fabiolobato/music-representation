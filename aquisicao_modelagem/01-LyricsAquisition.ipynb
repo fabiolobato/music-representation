{
 "cells": [
  {
   "cell_type": "markdown",
   "metadata": {},
   "source": [
    "# 1 - Captura dos Dados - Letras.Mus.Br"
   ]
  },
  {
   "cell_type": "code",
   "execution_count": 1,
   "metadata": {},
   "outputs": [],
   "source": [
    "import requests\n",
    "import re\n",
    "import json\n",
    "import pandas as pd\n",
    "from tqdm import tqdm\n",
    "from bs4 import BeautifulSoup as soup"
   ]
  },
  {
   "cell_type": "markdown",
   "metadata": {},
   "source": [
    "## 1.1 Extração dos Links das Músicas"
   ]
  },
  {
   "cell_type": "code",
   "execution_count": 2,
   "metadata": {},
   "outputs": [],
   "source": [
    "#Extração dos links das músicas dos gêneros\n",
    "def musicLinks(criteria,search,length):\n",
    "    if criteria in ['genre','artist']:\n",
    "        headers = {'User-Agent': 'Mozilla/5.0 (Windows NT 6.1; WOW64; rv:50.0) Gecko/20100101 Firefox/50.0'}\n",
    "        lyrics_ref = []\n",
    "        if criteria == 'genre':\n",
    "            search_by_genre = 'https://www.letras.mus.br/mais-acessadas/{}/'\n",
    "            for genre in search:\n",
    "                my_url = search_by_genre.format(genre)\n",
    "                page = requests.get(my_url, headers=headers)\n",
    "                page_soup = soup(page.content, \"lxml\")\n",
    "                links_container = page_soup.findAll(\"ol\",{\"class\":\"top-list_mus cnt-list--col1-3\"})\n",
    "                page_soup = soup(str(links_container), \"lxml\")\n",
    "                links_array = page_soup.findAll(\"a\")\n",
    "                i = 0\n",
    "                while i < length:\n",
    "                    lyrics_ref.append(str(\"https://www.letras.mus.br\"+links_array[i].attrs['href']).replace(\"['\",\"\").replace(\"']\",\"\"))\n",
    "                    i+=1\n",
    "                print('{} songs by {} were found and retrieved.'.format(str(i),genre))\n",
    "        else:\n",
    "            search_by_artist = 'https://www.letras.mus.br/{}/mais_tocadas.html'\n",
    "            for artist in search:\n",
    "                my_url = search_by_artist.format(artist)\n",
    "                page = requests.get(my_url, headers=headers)\n",
    "                page_soup = soup(page.content, \"lxml\")\n",
    "                links_container = page_soup.findAll(\"li\",{\"class\":\"cnt-list-row -song is-visible\"})\n",
    "                if len(links_container)>=length:\n",
    "                    page_soup = soup(str(links_container), \"lxml\")\n",
    "                    i = 0\n",
    "                    print('Collecting {} songs by {}.'.format(len(links_container),artist))\n",
    "                    while i < length:\n",
    "                        lyrics_ref.append(str(links_container[i].attrs['data-shareurl']))\n",
    "                        i+=1\n",
    "                else:\n",
    "                    print('Only {} songs by {} were found and retrieved.'.format(len(links_container),artist))\n",
    "                    for links in links_container:\n",
    "                        lyrics_ref.append(str(links.attrs['data-shareurl']))\n",
    "    else:\n",
    "        print('Invalid Criteria')\n",
    "    return lyrics_ref"
   ]
  },
  {
   "cell_type": "code",
   "execution_count": 3,
   "metadata": {},
   "outputs": [],
   "source": [
    "#Lista dos generos para extração. Obtida de \"www.letras.mus.br/estilos\"\n",
    "#genres = ['rock-roll', 'punk-rock', 'heavy-metal', 'tecnopop', 'hard-rock', 'power-pop', 'soft-rock', 'post-rock', 'poprock', 'progressivo']\n",
    "#genres = ['samba','pagode']\n",
    "#artists = ['ariana-grande']\n",
    "\n",
    "search = ['rock-roll']"
   ]
  },
  {
   "cell_type": "code",
   "execution_count": 4,
   "metadata": {},
   "outputs": [
    {
     "name": "stdout",
     "output_type": "stream",
     "text": [
      "100 songs by rock-roll were found and retrieved.\n"
     ]
    }
   ],
   "source": [
    "links = musicLinks('genre',search,100)"
   ]
  },
  {
   "cell_type": "code",
   "execution_count": 5,
   "metadata": {},
   "outputs": [
    {
     "data": {
      "text/plain": [
       "100"
      ]
     },
     "execution_count": 5,
     "metadata": {},
     "output_type": "execute_result"
    }
   ],
   "source": [
    "len(links)"
   ]
  },
  {
   "cell_type": "code",
   "execution_count": 6,
   "metadata": {},
   "outputs": [],
   "source": [
    "#Exportar\n",
    "music_links = pd.DataFrame({'music': links})\n",
    "music_links.to_csv('music_links.csv',index=False)"
   ]
  },
  {
   "cell_type": "code",
   "execution_count": 7,
   "metadata": {},
   "outputs": [],
   "source": [
    "music_links = pd.read_csv('music_links.csv')\n",
    "music_links = music_links.music"
   ]
  },
  {
   "cell_type": "code",
   "execution_count": 8,
   "metadata": {},
   "outputs": [
    {
     "data": {
      "text/plain": [
       "0              https://www.letras.mus.br/bon-jovi/4932/\n",
       "1              https://www.letras.mus.br/bon-jovi/4923/\n",
       "2          https://www.letras.mus.br/linkin-park/23091/\n",
       "3     https://www.letras.mus.br/creedence-clearwater...\n",
       "4               https://www.letras.mus.br/cazuza/43861/\n",
       "                            ...                        \n",
       "95           https://www.letras.mus.br/the-beatles/189/\n",
       "96               https://www.letras.mus.br/kiss/520817/\n",
       "97        https://www.letras.mus.br/rod-stewart/108434/\n",
       "98             https://www.letras.mus.br/bon-jovi/4964/\n",
       "99         https://www.letras.mus.br/raul-seixas/48326/\n",
       "Name: music, Length: 100, dtype: object"
      ]
     },
     "execution_count": 8,
     "metadata": {},
     "output_type": "execute_result"
    }
   ],
   "source": [
    "music_links"
   ]
  },
  {
   "cell_type": "markdown",
   "metadata": {},
   "source": [
    "## 1.2 Extração das Letras"
   ]
  },
  {
   "cell_type": "code",
   "execution_count": 9,
   "metadata": {},
   "outputs": [],
   "source": [
    "# Remove pontuação de um texto\n",
    "#Utilizada para garantir posteriomente uma tokenização de sentenças correta.\n",
    "def remove_punctuation(text):  \n",
    "    # re.sub(replace_expression, replace_string, target)\n",
    "    new_text = text.replace(\",\",\"\").replace(\"-\",\" \")\n",
    "    new_text = re.sub(r\"\\|,|;|:|-|!|\\?\", \" \", new_text)\n",
    "    return new_text"
   ]
  },
  {
   "cell_type": "code",
   "execution_count": 10,
   "metadata": {},
   "outputs": [],
   "source": [
    "def lyricFormat(string):\n",
    "    lyric = str(string)\n",
    "    lyric = lyric.replace('[<div class=\"cnt-letra p402_premium\"> <p>','')\n",
    "    lyric = lyric.replace(\"]\",\"\")\n",
    "    lyric = lyric.replace('<p>','')\n",
    "    lyric = lyric.replace('</p>','.')\n",
    "    lyric = lyric.replace('<br/>','.')\n",
    "    lyric = lyric.replace('</div>','')\n",
    "    lyric = lyric.strip()\n",
    "    if (lyric[-1] == '.'):\n",
    "        lyric = (lyric[0:-1])\n",
    "    return lyric"
   ]
  },
  {
   "cell_type": "code",
   "execution_count": 11,
   "metadata": {},
   "outputs": [],
   "source": [
    "#Armazena os dados do dataset\n",
    "lang = []\n",
    "exib = []\n",
    "genero = []\n",
    "titulo = []\n",
    "artista = []\n",
    "letras = []\n",
    "bad_links_ref = []"
   ]
  },
  {
   "cell_type": "code",
   "execution_count": 12,
   "metadata": {},
   "outputs": [
    {
     "name": "stderr",
     "output_type": "stream",
     "text": [
      "Baixando letras: 100%|██████████| 100/100 [00:38<00:00,  2.62it/s]"
     ]
    },
    {
     "name": "stdout",
     "output_type": "stream",
     "text": [
      "Número de links com falha: 0\n"
     ]
    },
    {
     "name": "stderr",
     "output_type": "stream",
     "text": [
      "\n"
     ]
    }
   ],
   "source": [
    "#Extração das letras das músicas\n",
    "for ref in tqdm(music_links, desc= 'Baixando letras: '):\n",
    "    \n",
    "    try:\n",
    "        agent = {'User-Agent': 'Mozilla/5.0 (Windows NT 6.1; WOW64; rv:50.0) Gecko/20100101 Firefox/50.0'}\n",
    "        page = requests.get(ref, headers=agent)\n",
    "        page_soup = soup(page.content, \"lxml\")\n",
    "        #Extração das informações\n",
    "        metadata = page_soup.find(\"script\", id=\"head_scripts_vars\")\n",
    "        #Extração de metadados(idioma e número de exibições/acessos)\n",
    "        metadata = str(metadata).replace('\\n','').strip()\n",
    "        metadata = json.loads(metadata.split(';')[0].split('=')[-1])\n",
    "        lyric_lang = metadata[\"lyric_lang\"]\n",
    "        cnt_info_exib = page_soup.findAll(\"div\",{\"class\":\"cnt-info_exib\"})[0].text\n",
    "        cnt_info_exib = cnt_info_exib.replace(\".\",\"\")\n",
    "        cnt_info_exib = int(re.findall(\"\\d+\", cnt_info_exib)[0])\n",
    "        #Extrai nome , artista e gênero\n",
    "        song_info = page_soup.findAll(\"span\",{\"itemprop\":\"name\"}) \n",
    "        genero_musica = song_info[1].text\n",
    "        titulo_musica = song_info[3].text\n",
    "        artista_musica = song_info[2].text\n",
    "        lyrics_container = (page_soup.findAll(\"div\",{\"class\":\"cnt-letra p402_premium\"}))\n",
    "        letras_musica = lyricFormat(lyrics_container)\n",
    "        letras_musica = remove_punctuation(letras_musica)\n",
    "        #Adiciona nas listas para posterior exportação.\n",
    "        lang.append(lyric_lang)\n",
    "        genero.append(genero_musica)\n",
    "        exib.append(cnt_info_exib)\n",
    "        titulo.append(titulo_musica)\n",
    "        artista.append(artista_musica)\n",
    "        letras.append(letras_musica)\n",
    "    except:\n",
    "        print('Fail')\n",
    "        bad_links_ref.append(ref)\n",
    "        continue        \n",
    "print(\"Número de links com falha: \"+str(len(bad_links_ref)))"
   ]
  },
  {
   "cell_type": "markdown",
   "metadata": {},
   "source": [
    "## 1.3 Exportar Dataset (CSV)"
   ]
  },
  {
   "cell_type": "code",
   "execution_count": 13,
   "metadata": {},
   "outputs": [],
   "source": [
    "Dataset = pd.DataFrame({'lang': lang,\n",
    "                        'genero': genero,\n",
    "                        'exib': exib,\n",
    "                        'titulo': titulo,\n",
    "                       'artista': artista,\n",
    "                        'letras': letras})"
   ]
  },
  {
   "cell_type": "code",
   "execution_count": 14,
   "metadata": {},
   "outputs": [
    {
     "data": {
      "text/html": [
       "<div>\n",
       "<style scoped>\n",
       "    .dataframe tbody tr th:only-of-type {\n",
       "        vertical-align: middle;\n",
       "    }\n",
       "\n",
       "    .dataframe tbody tr th {\n",
       "        vertical-align: top;\n",
       "    }\n",
       "\n",
       "    .dataframe thead th {\n",
       "        text-align: right;\n",
       "    }\n",
       "</style>\n",
       "<table border=\"1\" class=\"dataframe\">\n",
       "  <thead>\n",
       "    <tr style=\"text-align: right;\">\n",
       "      <th></th>\n",
       "      <th>lang</th>\n",
       "      <th>genero</th>\n",
       "      <th>exib</th>\n",
       "      <th>titulo</th>\n",
       "      <th>artista</th>\n",
       "      <th>letras</th>\n",
       "    </tr>\n",
       "  </thead>\n",
       "  <tbody>\n",
       "    <tr>\n",
       "      <th>0</th>\n",
       "      <td>en</td>\n",
       "      <td>Rock and Roll</td>\n",
       "      <td>2822230</td>\n",
       "      <td>Livin' On a Prayer</td>\n",
       "      <td>Bon Jovi</td>\n",
       "      <td>(Once upon a time not so long ago).Tommy used ...</td>\n",
       "    </tr>\n",
       "    <tr>\n",
       "      <th>1</th>\n",
       "      <td>en</td>\n",
       "      <td>Rock and Roll</td>\n",
       "      <td>3612178</td>\n",
       "      <td>Always</td>\n",
       "      <td>Bon Jovi</td>\n",
       "      <td>This Romeo is bleeding.But you can't see his b...</td>\n",
       "    </tr>\n",
       "    <tr>\n",
       "      <th>2</th>\n",
       "      <td>en</td>\n",
       "      <td>Rock and Roll</td>\n",
       "      <td>3995342</td>\n",
       "      <td>In The End</td>\n",
       "      <td>Linkin Park</td>\n",
       "      <td>(It starts with one).One thing I don't know wh...</td>\n",
       "    </tr>\n",
       "    <tr>\n",
       "      <th>3</th>\n",
       "      <td>en</td>\n",
       "      <td>Rock and Roll</td>\n",
       "      <td>2213512</td>\n",
       "      <td>Have You Ever Seen The Rain?</td>\n",
       "      <td>Creedence Clearwater Revival</td>\n",
       "      <td>Someone told me long ago.There's a calm before...</td>\n",
       "    </tr>\n",
       "    <tr>\n",
       "      <th>4</th>\n",
       "      <td>pt</td>\n",
       "      <td>Rock and Roll</td>\n",
       "      <td>3586479</td>\n",
       "      <td>Exagerado</td>\n",
       "      <td>Cazuza</td>\n",
       "      <td>Amor da minha vida.Daqui até a eternidade.Noss...</td>\n",
       "    </tr>\n",
       "  </tbody>\n",
       "</table>\n",
       "</div>"
      ],
      "text/plain": [
       "  lang         genero     exib                        titulo  \\\n",
       "0   en  Rock and Roll  2822230            Livin' On a Prayer   \n",
       "1   en  Rock and Roll  3612178                        Always   \n",
       "2   en  Rock and Roll  3995342                    In The End   \n",
       "3   en  Rock and Roll  2213512  Have You Ever Seen The Rain?   \n",
       "4   pt  Rock and Roll  3586479                     Exagerado   \n",
       "\n",
       "                        artista  \\\n",
       "0                      Bon Jovi   \n",
       "1                      Bon Jovi   \n",
       "2                   Linkin Park   \n",
       "3  Creedence Clearwater Revival   \n",
       "4                        Cazuza   \n",
       "\n",
       "                                              letras  \n",
       "0  (Once upon a time not so long ago).Tommy used ...  \n",
       "1  This Romeo is bleeding.But you can't see his b...  \n",
       "2  (It starts with one).One thing I don't know wh...  \n",
       "3  Someone told me long ago.There's a calm before...  \n",
       "4  Amor da minha vida.Daqui até a eternidade.Noss...  "
      ]
     },
     "execution_count": 14,
     "metadata": {},
     "output_type": "execute_result"
    }
   ],
   "source": [
    "Dataset.head(5)"
   ]
  },
  {
   "cell_type": "code",
   "execution_count": 15,
   "metadata": {},
   "outputs": [
    {
     "data": {
      "text/plain": [
       "array(['Rock and Roll'], dtype=object)"
      ]
     },
     "execution_count": 15,
     "metadata": {},
     "output_type": "execute_result"
    }
   ],
   "source": [
    "Dataset.genero.unique()"
   ]
  },
  {
   "cell_type": "code",
   "execution_count": 16,
   "metadata": {},
   "outputs": [],
   "source": [
    "Dataset.to_csv('datasetLetras.csv')"
   ]
  },
  {
   "cell_type": "markdown",
   "metadata": {},
   "source": [
    "## Adicionais\n",
    "## 1.4 Filtrando por lang (CSV)"
   ]
  },
  {
   "cell_type": "code",
   "execution_count": null,
   "metadata": {},
   "outputs": [],
   "source": [
    "dataset_en = Dataset[Dataset[\"lang\"]==\"en\"]"
   ]
  },
  {
   "cell_type": "code",
   "execution_count": null,
   "metadata": {},
   "outputs": [],
   "source": [
    "def count_types(df,atype):\n",
    "    for t in set(df[atype]):\n",
    "        print(t + \" \"+str(len(df[df[atype]==t])))"
   ]
  },
  {
   "cell_type": "code",
   "execution_count": null,
   "metadata": {},
   "outputs": [],
   "source": [
    "count_types(dataset_en,\"genero\")"
   ]
  },
  {
   "cell_type": "code",
   "execution_count": null,
   "metadata": {},
   "outputs": [],
   "source": [
    "def balanceData(df,fieldName,value):\n",
    "    subDataframes = []\n",
    "    for t in set(df[fieldName]):\n",
    "        subDataframes.append(df[df[fieldName]==t][0:value])\n",
    "    data = pd.concat(subDataframes)\n",
    "    #Reconfigura o index da nova tabela\n",
    "    data = data.reset_index()\n",
    "    #Remove as colunas index e Linha\n",
    "    data = data.drop(labels=['index'],axis=1)\n",
    "    return data"
   ]
  },
  {
   "cell_type": "code",
   "execution_count": null,
   "metadata": {},
   "outputs": [],
   "source": [
    "# Leitura do dataset\n",
    "def read_data(path, sep):\n",
    "    data = pd.read_csv(path, sep=sep)\n",
    "    data = data.loc[:, ~data.columns.str.contains('^Unnamed')]\n",
    "    return data"
   ]
  },
  {
   "cell_type": "code",
   "execution_count": null,
   "metadata": {},
   "outputs": [],
   "source": [
    "df = read_data('datasetSubgenresRockPop.csv',',')"
   ]
  },
  {
   "cell_type": "code",
   "execution_count": null,
   "metadata": {},
   "outputs": [],
   "source": [
    "df = df[df[\"lang\"]==\"en\"]"
   ]
  },
  {
   "cell_type": "code",
   "execution_count": null,
   "metadata": {},
   "outputs": [],
   "source": [
    "df.genero.unique()"
   ]
  },
  {
   "cell_type": "code",
   "execution_count": null,
   "metadata": {},
   "outputs": [],
   "source": [
    "selecao = (df['genero'] == 'Tecnopop') |  (df['genero'] == 'Pop Rock') | (df['genero'] == 'Power-Pop') | (df['genero'] == 'Heavy Metal')| (df['genero'] == 'Punk Rock')| (df['genero'] == 'Soft Rock')"
   ]
  },
  {
   "cell_type": "code",
   "execution_count": null,
   "metadata": {},
   "outputs": [],
   "source": [
    "df = df[selecao]"
   ]
  },
  {
   "cell_type": "code",
   "execution_count": null,
   "metadata": {},
   "outputs": [],
   "source": [
    "count_types(df,'genero')"
   ]
  },
  {
   "cell_type": "code",
   "execution_count": null,
   "metadata": {},
   "outputs": [],
   "source": [
    "df = balanceData(df,'genero',100)"
   ]
  },
  {
   "cell_type": "code",
   "execution_count": null,
   "metadata": {},
   "outputs": [],
   "source": [
    "df.to_csv('EnRockPop100.csv')"
   ]
  }
 ],
 "metadata": {
  "kernelspec": {
   "display_name": "Python 3",
   "language": "python",
   "name": "python3"
  },
  "language_info": {
   "codemirror_mode": {
    "name": "ipython",
    "version": 3
   },
   "file_extension": ".py",
   "mimetype": "text/x-python",
   "name": "python",
   "nbconvert_exporter": "python",
   "pygments_lexer": "ipython3",
   "version": "3.8.5"
  }
 },
 "nbformat": 4,
 "nbformat_minor": 2
}
